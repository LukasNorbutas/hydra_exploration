{
 "cells": [
  {
   "cell_type": "markdown",
   "metadata": {},
   "source": [
    "# Data"
   ]
  },
  {
   "cell_type": "markdown",
   "metadata": {},
   "source": [
    "The data contains parsed scrapes of a Russian cryptomarket called Hydra. Hydra is a person-to-person illegal drug marketplace on the \"Dark Web\" (accessible via TOR browser). The basic layout resembles eBay or any other online marketplace.\n",
    "\n",
    "The scrape (mirror of the website) was conducted by myself in 2017 for another project.\n",
    "The parsed datafiles used in this notebook contain:\n",
    "<br>\n",
    "<br>\n",
    "1) Item pages - pages of **12,378 drug items** on the marketplace, each containing: ID, name, description, seller, shipping locations of each item.\n",
    "<br>\n",
    "2) Buyer profiles - profile pages of **101,965 buyer profiles**, each containing nickname, number of transactions and date of registration.\n",
    "<br>\n",
    "3) Feedback messages - **574,274 buyer feedback messages** left for each item/seller after a transaction. It contains buyer nickname (author of message), seller nickname (from whom the author bought an item), item ID, date of message, buyer's location\n",
    "<br>\n",
    "4) (omitted in this notebook) Price of items - Prices for different weights of (most) items. \n",
    "<br>\n",
    "![test](screenshot.png)\n"
   ]
  },
  {
   "cell_type": "markdown",
   "metadata": {},
   "source": [
    "# 1. Setup"
   ]
  },
  {
   "cell_type": "markdown",
   "metadata": {},
   "source": [
    "### Packages"
   ]
  },
  {
   "cell_type": "code",
   "execution_count": 866,
   "metadata": {},
   "outputs": [],
   "source": [
    "### Main packages\n",
    "import os\n",
    "import numpy as np\n",
    "import pandas as pd\n",
    "import matplotlib.pyplot as plt\n",
    "import matplotlib.patches as patches\n",
    "import seaborn as sns\n",
    "from datetime import datetime\n",
    "import time\n",
    "\n",
    "# Set locale to recognize Cyrillic symbols\n",
    "import locale\n",
    "locale.setlocale(locale.LC_TIME, 'ru_RU.UTF-8')\n",
    "\n",
    "# Import transliterate package to convert Cyrillic -> Latin\n",
    "from transliterate import translit\n",
    "\n",
    "# Evaluate tuples from strings\n",
    "from ast import literal_eval\n",
    "\n",
    "# Import geocoder from geopy\n",
    "from geopy.geocoders import Nominatim\n",
    "\n",
    "# Plotly for geoplot\n",
    "import plotly.plotly as py\n",
    "import plotly.graph_objs as go\n",
    "plotly.tools.set_credentials_file(username='LNorbutas', api_key='OWp4O3z5v1ZaNs3O6cHa')\n",
    "\n",
    "# Ignore warnings \n",
    "import warnings\n",
    "warnings.filterwarnings('ignore')"
   ]
  },
  {
   "cell_type": "markdown",
   "metadata": {},
   "source": [
    "### Read data\n",
    "\n",
    "\\*\\*\\*Description of data here\\*\\*\\*"
   ]
  },
  {
   "cell_type": "code",
   "execution_count": 1016,
   "metadata": {},
   "outputs": [],
   "source": [
    "# Transactions (buyer feedback dataset)\n",
    "data_feedback = pd.read_csv('feedback.csv')\n",
    "\n",
    "# Item data\n",
    "data_items = pd.read_csv('items.csv')\n",
    "\n",
    "# Buyer profile data\n",
    "data_buyers = pd.read_csv('buyer.csv')"
   ]
  },
  {
   "cell_type": "markdown",
   "metadata": {},
   "source": [
    "### Data cleaning\n",
    "\n",
    "The data is pretty messy and requires a lot of prep-work. This section is mostly cleaning up/transliteration."
   ]
  },
  {
   "cell_type": "markdown",
   "metadata": {},
   "source": [
    "#### Feedback data"
   ]
  },
  {
   "cell_type": "code",
   "execution_count": 868,
   "metadata": {},
   "outputs": [
    {
     "name": "stdout",
     "output_type": "stream",
     "text": [
      "Some columns contain data in Cyrilic. That is the case for all datasets: \n"
     ]
    },
    {
     "data": {
      "text/html": [
       "<div>\n",
       "<style scoped>\n",
       "    .dataframe tbody tr th:only-of-type {\n",
       "        vertical-align: middle;\n",
       "    }\n",
       "\n",
       "    .dataframe tbody tr th {\n",
       "        vertical-align: top;\n",
       "    }\n",
       "\n",
       "    .dataframe thead th {\n",
       "        text-align: right;\n",
       "    }\n",
       "</style>\n",
       "<table border=\"1\" class=\"dataframe\">\n",
       "  <thead>\n",
       "    <tr style=\"text-align: right;\">\n",
       "      <th></th>\n",
       "      <th>buyer</th>\n",
       "      <th>seller</th>\n",
       "      <th>item_id</th>\n",
       "      <th>rating</th>\n",
       "      <th>text</th>\n",
       "      <th>date</th>\n",
       "      <th>buyer_location</th>\n",
       "      <th>filename</th>\n",
       "    </tr>\n",
       "  </thead>\n",
       "  <tbody>\n",
       "    <tr>\n",
       "      <th>0</th>\n",
       "      <td>william</td>\n",
       "      <td>Henry_Kissinger</td>\n",
       "      <td>999</td>\n",
       "      <td>Оценка: 10</td>\n",
       "      <td>клад найден))</td>\n",
       "      <td>18 Августа в 22:24</td>\n",
       "      <td>Москва</td>\n",
       "      <td>999/profile/9946@page=9</td>\n",
       "    </tr>\n",
       "    <tr>\n",
       "      <th>1</th>\n",
       "      <td>Dvorkin12</td>\n",
       "      <td>Henry_Kissinger</td>\n",
       "      <td>999</td>\n",
       "      <td>Оценка: 10</td>\n",
       "      <td>Магазин отличный рекомендую.\\r\\nСтаф 4+, за та...</td>\n",
       "      <td>18 Августа в 18:48</td>\n",
       "      <td>Москва</td>\n",
       "      <td>999/profile/9946@page=9</td>\n",
       "    </tr>\n",
       "    <tr>\n",
       "      <th>2</th>\n",
       "      <td>Ksvsj</td>\n",
       "      <td>Henry_Kissinger</td>\n",
       "      <td>999</td>\n",
       "      <td>Оценка: 10</td>\n",
       "      <td>хороший магазин, еще вернусь!)</td>\n",
       "      <td>18 Августа в 18:45</td>\n",
       "      <td>Москва</td>\n",
       "      <td>999/profile/9946@page=9</td>\n",
       "    </tr>\n",
       "    <tr>\n",
       "      <th>3</th>\n",
       "      <td>hombo21</td>\n",
       "      <td>Henry_Kissinger</td>\n",
       "      <td>999</td>\n",
       "      <td>Оценка: 10</td>\n",
       "      <td>Всё ок, поднял в одно косание, только не сразу...</td>\n",
       "      <td>18 Августа в 07:53</td>\n",
       "      <td>Москва</td>\n",
       "      <td>999/profile/9946@page=9</td>\n",
       "    </tr>\n",
       "    <tr>\n",
       "      <th>4</th>\n",
       "      <td>Ksvsj</td>\n",
       "      <td>Henry_Kissinger</td>\n",
       "      <td>999</td>\n",
       "      <td>Оценка: 10</td>\n",
       "      <td>Все ок, вот только стафчик слабоват! А так все...</td>\n",
       "      <td>18 Августа в 01:06</td>\n",
       "      <td>Москва</td>\n",
       "      <td>999/profile/9946@page=9</td>\n",
       "    </tr>\n",
       "  </tbody>\n",
       "</table>\n",
       "</div>"
      ],
      "text/plain": [
       "       buyer             seller  item_id      rating  \\\n",
       "0    william   Henry_Kissinger       999  Оценка: 10   \n",
       "1  Dvorkin12   Henry_Kissinger       999  Оценка: 10   \n",
       "2      Ksvsj   Henry_Kissinger       999  Оценка: 10   \n",
       "3    hombo21   Henry_Kissinger       999  Оценка: 10   \n",
       "4      Ksvsj   Henry_Kissinger       999  Оценка: 10   \n",
       "\n",
       "                                                text                date  \\\n",
       "0                                      клад найден))  18 Августа в 22:24   \n",
       "1  Магазин отличный рекомендую.\\r\\nСтаф 4+, за та...  18 Августа в 18:48   \n",
       "2                     хороший магазин, еще вернусь!)  18 Августа в 18:45   \n",
       "3  Всё ок, поднял в одно косание, только не сразу...  18 Августа в 07:53   \n",
       "4  Все ок, вот только стафчик слабоват! А так все...  18 Августа в 01:06   \n",
       "\n",
       "  buyer_location                 filename  \n",
       "0         Москва  999/profile/9946@page=9  \n",
       "1         Москва  999/profile/9946@page=9  \n",
       "2         Москва  999/profile/9946@page=9  \n",
       "3         Москва  999/profile/9946@page=9  \n",
       "4         Москва  999/profile/9946@page=9  "
      ]
     },
     "execution_count": 868,
     "metadata": {},
     "output_type": "execute_result"
    }
   ],
   "source": [
    "print(\"Some columns contain data in Cyrilic. That is the case for all datasets: \")\n",
    "data_feedback.head()"
   ]
  },
  {
   "cell_type": "code",
   "execution_count": 869,
   "metadata": {},
   "outputs": [],
   "source": [
    "## Keep relevant columns\n",
    "data_feedback = data_feedback[[\"buyer\", \"seller\", \"item_id\", \"rating\", \"date\", \"buyer_location\"]]"
   ]
  },
  {
   "cell_type": "code",
   "execution_count": 870,
   "metadata": {},
   "outputs": [
    {
     "name": "stdout",
     "output_type": "stream",
     "text": [
      "buyer                0\n",
      "seller               0\n",
      "item_id              0\n",
      "rating               0\n",
      "date                 0\n",
      "buyer_location    1624\n",
      "dtype: int64\n"
     ]
    }
   ],
   "source": [
    "## Missing data\n",
    "print(data_feedback.isna().sum())   # 1,624 cases in buyer_location\n",
    "\n",
    "# Encode missing to empty strings (to avoid transliteration type error and retain other data)\n",
    "data_feedback.loc[data_feedback.buyer_location.isna(), \"buyer_location\"] = \"\""
   ]
  },
  {
   "cell_type": "code",
   "execution_count": 871,
   "metadata": {
    "scrolled": true
   },
   "outputs": [
    {
     "name": "stdout",
     "output_type": "stream",
     "text": [
      "Example of transliteration: Москва Moskva\n"
     ]
    }
   ],
   "source": [
    "## Transliterate cyrillic columns (nicknames and locations)\n",
    "# *** Takes about a minute to run! ***\n",
    "print(f\"Example of transliteration: {data_feedback.buyer_location[0]}\", \n",
    "      f\"{translit(data_feedback.buyer_location[0], 'ru', reversed=True)}\")\n",
    "\n",
    "data_feedback[[\"buyer\", \"seller\", \"buyer_location\"]] = (data_feedback[[\"buyer\", \"seller\", \"buyer_location\"]]\n",
    "                                                        .applymap(lambda x: \n",
    "                                                                  translit(x, \"ru\", reversed=True, strict=True)))"
   ]
  },
  {
   "cell_type": "code",
   "execution_count": 872,
   "metadata": {},
   "outputs": [],
   "source": [
    "## Remove string leftovers from \"rating\" column\n",
    "data_feedback.rating = data_feedback.rating.str.replace(\"Оценка: \", \"\")"
   ]
  },
  {
   "cell_type": "code",
   "execution_count": 873,
   "metadata": {
    "scrolled": false
   },
   "outputs": [
    {
     "name": "stdout",
     "output_type": "stream",
     "text": [
      "Before replacement: \n",
      "0         18 Августа в 22:24\n",
      "574264       сегодня в 14:40\n",
      "574265         вчера в 17:21\n",
      "Name: date, dtype: object\n",
      "1              18 Августа в 18:48\n",
      "193000    25 Декабря 2016 в 01:20\n",
      "Name: date, dtype: object \n",
      "\n",
      "\n",
      "After replacement: \n",
      "0         18 Августа 2017 22:24\n",
      "574264     05 ноября 2017 14:40\n",
      "574265     04 ноября 2017 17:21\n",
      "1         18 Августа 2017 18:48\n",
      "193000    25 Декабря 2016 01:20\n",
      "Name: date, dtype: object\n",
      "\n",
      "After parsing: \n",
      "0         2017-08-18\n",
      "574264    2017-11-05\n",
      "574265    2017-11-04\n",
      "1         2017-08-18\n",
      "193000    2016-12-25\n",
      "Name: date, dtype: object\n"
     ]
    }
   ],
   "source": [
    "## Parse Cyrillic dates\n",
    "\n",
    "# Dates contain \"today\" and \"yesterday\"\n",
    "print(f\"Before replacement: \\n{data_feedback.date.iloc[[0, -10, -9]]}\")\n",
    "\n",
    "# Dates from 2017 do not have the year in the string, while earlier years have them\n",
    "print(data_feedback.date[[1,193000]], \"\\n\\n\")\n",
    "\n",
    "# Harmonize dates: 1) Add 2017 to all dates that contain no year\n",
    "#                  2) Remove \" в \" from all strings to enable parsing to datetime\n",
    "#                  3) Replace \"today\" to 2017-11-05 (date of data collection), \"yesterday\" - 2017-11-04\n",
    "\n",
    "dict1 = {'а в ': 'а 2017 ',\n",
    "         'я в ': 'я 2017 ',\n",
    "         'сегодня': '05 ноября',\n",
    "         'вчера': '04 ноября',\n",
    "         ' в ': ' '}\n",
    "data_feedback.date = data_feedback.date.str.strip().replace(dict1, regex=True)\n",
    "\n",
    "print(f\"After replacement: \\n{data_feedback.date.iloc[[0, -10, -9, 1, 193000]]}\")\n",
    "\n",
    "# Parse string dates to datetime\n",
    "data_feedback.date = data_feedback.date.apply(lambda x: datetime.strptime(x, '%d %B %Y %H:%M').date())\n",
    "\n",
    "print(f\"\\nAfter parsing: \\n{data_feedback.date.iloc[[0, -10, -9, 1, 193000]]}\")"
   ]
  },
  {
   "cell_type": "markdown",
   "metadata": {},
   "source": [
    "#### Item data"
   ]
  },
  {
   "cell_type": "code",
   "execution_count": 1017,
   "metadata": {},
   "outputs": [
    {
     "data": {
      "text/html": [
       "<div>\n",
       "<style scoped>\n",
       "    .dataframe tbody tr th:only-of-type {\n",
       "        vertical-align: middle;\n",
       "    }\n",
       "\n",
       "    .dataframe tbody tr th {\n",
       "        vertical-align: top;\n",
       "    }\n",
       "\n",
       "    .dataframe thead th {\n",
       "        text-align: right;\n",
       "    }\n",
       "</style>\n",
       "<table border=\"1\" class=\"dataframe\">\n",
       "  <thead>\n",
       "    <tr style=\"text-align: right;\">\n",
       "      <th></th>\n",
       "      <th>name</th>\n",
       "      <th>description</th>\n",
       "      <th>instock</th>\n",
       "      <th>shipsfrom</th>\n",
       "      <th>seller</th>\n",
       "      <th>filename</th>\n",
       "    </tr>\n",
       "  </thead>\n",
       "  <tbody>\n",
       "    <tr>\n",
       "      <th>0</th>\n",
       "      <td>ГЕРОИН ОТ ПАТРИАРХА [100,0] | HYDRA</td>\n",
       "      <td>NaN</td>\n",
       "      <td>1</td>\n",
       "      <td>Москва                                        ...</td>\n",
       "      <td>ГЕРОИН ОТ ПАТРИАРХА</td>\n",
       "      <td>9997.0</td>\n",
       "    </tr>\n",
       "    <tr>\n",
       "      <th>1</th>\n",
       "      <td>ГЕРОИН ОТ ПАТРИАРХА [50,0] | HYDRA</td>\n",
       "      <td>NaN</td>\n",
       "      <td>1</td>\n",
       "      <td>Москва                                        ...</td>\n",
       "      <td>ГЕРОИН ОТ ПАТРИАРХА</td>\n",
       "      <td>9996.0</td>\n",
       "    </tr>\n",
       "    <tr>\n",
       "      <th>2</th>\n",
       "      <td>ГЕРОИН ОТ ПАТРИАРХА [Октябрь] | HYDRA</td>\n",
       "      <td>Партия ОКТЯБРЯ 17-го!Разовая дозировка 0,05-0,...</td>\n",
       "      <td>1</td>\n",
       "      <td>Москва                                        ...</td>\n",
       "      <td>ГЕРОИН ОТ ПАТРИАРХА</td>\n",
       "      <td>9994.0</td>\n",
       "    </tr>\n",
       "    <tr>\n",
       "      <th>3</th>\n",
       "      <td>МЕТАДОН ОТ ПАТРИАРХА | HYDRA</td>\n",
       "      <td>Дефицитный продукт. Ограниченная партия.График...</td>\n",
       "      <td>1</td>\n",
       "      <td>Москва                                        ...</td>\n",
       "      <td>ГЕРОИН ОТ ПАТРИАРХА</td>\n",
       "      <td>9993.0</td>\n",
       "    </tr>\n",
       "    <tr>\n",
       "      <th>4</th>\n",
       "      <td>Амфетамин \"Айсберг\" | HYDRA</td>\n",
       "      <td>Именно об этом подумал Стаффмен, впервые попро...</td>\n",
       "      <td>1</td>\n",
       "      <td>МоскваБрянскСаратовЕкатеринбург               ...</td>\n",
       "      <td>The Stuff-man</td>\n",
       "      <td>9990.0</td>\n",
       "    </tr>\n",
       "  </tbody>\n",
       "</table>\n",
       "</div>"
      ],
      "text/plain": [
       "                                    name  \\\n",
       "0    ГЕРОИН ОТ ПАТРИАРХА [100,0] | HYDRA   \n",
       "1     ГЕРОИН ОТ ПАТРИАРХА [50,0] | HYDRA   \n",
       "2  ГЕРОИН ОТ ПАТРИАРХА [Октябрь] | HYDRA   \n",
       "3           МЕТАДОН ОТ ПАТРИАРХА | HYDRA   \n",
       "4            Амфетамин \"Айсберг\" | HYDRA   \n",
       "\n",
       "                                         description  instock  \\\n",
       "0                                                NaN        1   \n",
       "1                                                NaN        1   \n",
       "2  Партия ОКТЯБРЯ 17-го!Разовая дозировка 0,05-0,...        1   \n",
       "3  Дефицитный продукт. Ограниченная партия.График...        1   \n",
       "4  Именно об этом подумал Стаффмен, впервые попро...        1   \n",
       "\n",
       "                                           shipsfrom               seller  \\\n",
       "0  Москва                                        ...  ГЕРОИН ОТ ПАТРИАРХА   \n",
       "1  Москва                                        ...  ГЕРОИН ОТ ПАТРИАРХА   \n",
       "2  Москва                                        ...  ГЕРОИН ОТ ПАТРИАРХА   \n",
       "3  Москва                                        ...  ГЕРОИН ОТ ПАТРИАРХА   \n",
       "4  МоскваБрянскСаратовЕкатеринбург               ...       The Stuff-man    \n",
       "\n",
       "   filename  \n",
       "0    9997.0  \n",
       "1    9996.0  \n",
       "2    9994.0  \n",
       "3    9993.0  \n",
       "4    9990.0  "
      ]
     },
     "execution_count": 1017,
     "metadata": {},
     "output_type": "execute_result"
    }
   ],
   "source": [
    "data_items.head()"
   ]
  },
  {
   "cell_type": "code",
   "execution_count": 1021,
   "metadata": {},
   "outputs": [],
   "source": [
    "## Select relevant columns\n",
    "data_items = data_items[[\"name\", \"seller\", \"filename\"]]"
   ]
  },
  {
   "cell_type": "code",
   "execution_count": 1022,
   "metadata": {},
   "outputs": [],
   "source": [
    "## Transliterate Cyrillic chars\n",
    "data_items[[\"name\", \"seller\"]] = data_items[[\"name\", \"seller\"]].applymap(lambda x: translit(x, \"ru\", reversed=True))"
   ]
  },
  {
   "cell_type": "code",
   "execution_count": 1023,
   "metadata": {},
   "outputs": [
    {
     "data": {
      "text/html": [
       "<div>\n",
       "<style scoped>\n",
       "    .dataframe tbody tr th:only-of-type {\n",
       "        vertical-align: middle;\n",
       "    }\n",
       "\n",
       "    .dataframe tbody tr th {\n",
       "        vertical-align: top;\n",
       "    }\n",
       "\n",
       "    .dataframe thead th {\n",
       "        text-align: right;\n",
       "    }\n",
       "</style>\n",
       "<table border=\"1\" class=\"dataframe\">\n",
       "  <thead>\n",
       "    <tr style=\"text-align: right;\">\n",
       "      <th></th>\n",
       "      <th>name</th>\n",
       "      <th>seller</th>\n",
       "      <th>filename</th>\n",
       "    </tr>\n",
       "  </thead>\n",
       "  <tbody>\n",
       "    <tr>\n",
       "      <th>0</th>\n",
       "      <td>GEROIN OT PATRIARHA [100,0] | HYDRA</td>\n",
       "      <td>GEROIN OT PATRIARHA</td>\n",
       "      <td>9997.0</td>\n",
       "    </tr>\n",
       "    <tr>\n",
       "      <th>1</th>\n",
       "      <td>GEROIN OT PATRIARHA [50,0] | HYDRA</td>\n",
       "      <td>GEROIN OT PATRIARHA</td>\n",
       "      <td>9996.0</td>\n",
       "    </tr>\n",
       "    <tr>\n",
       "      <th>2</th>\n",
       "      <td>GEROIN OT PATRIARHA [Oktjabr'] | HYDRA</td>\n",
       "      <td>GEROIN OT PATRIARHA</td>\n",
       "      <td>9994.0</td>\n",
       "    </tr>\n",
       "    <tr>\n",
       "      <th>3</th>\n",
       "      <td>METADON OT PATRIARHA | HYDRA</td>\n",
       "      <td>GEROIN OT PATRIARHA</td>\n",
       "      <td>9993.0</td>\n",
       "    </tr>\n",
       "    <tr>\n",
       "      <th>4</th>\n",
       "      <td>Amfetamin \"Ajsberg\" | HYDRA</td>\n",
       "      <td>The Stuff-man</td>\n",
       "      <td>9990.0</td>\n",
       "    </tr>\n",
       "  </tbody>\n",
       "</table>\n",
       "</div>"
      ],
      "text/plain": [
       "                                     name               seller  filename\n",
       "0     GEROIN OT PATRIARHA [100,0] | HYDRA  GEROIN OT PATRIARHA    9997.0\n",
       "1      GEROIN OT PATRIARHA [50,0] | HYDRA  GEROIN OT PATRIARHA    9996.0\n",
       "2  GEROIN OT PATRIARHA [Oktjabr'] | HYDRA  GEROIN OT PATRIARHA    9994.0\n",
       "3            METADON OT PATRIARHA | HYDRA  GEROIN OT PATRIARHA    9993.0\n",
       "4             Amfetamin \"Ajsberg\" | HYDRA       The Stuff-man     9990.0"
      ]
     },
     "execution_count": 1023,
     "metadata": {},
     "output_type": "execute_result"
    }
   ],
   "source": [
    "data_items.head()"
   ]
  },
  {
   "cell_type": "markdown",
   "metadata": {},
   "source": [
    "#### Buyers data"
   ]
  },
  {
   "cell_type": "code",
   "execution_count": 878,
   "metadata": {},
   "outputs": [
    {
     "data": {
      "text/html": [
       "<div>\n",
       "<style scoped>\n",
       "    .dataframe tbody tr th:only-of-type {\n",
       "        vertical-align: middle;\n",
       "    }\n",
       "\n",
       "    .dataframe tbody tr th {\n",
       "        vertical-align: top;\n",
       "    }\n",
       "\n",
       "    .dataframe thead th {\n",
       "        text-align: right;\n",
       "    }\n",
       "</style>\n",
       "<table border=\"1\" class=\"dataframe\">\n",
       "  <thead>\n",
       "    <tr style=\"text-align: right;\">\n",
       "      <th></th>\n",
       "      <th>nickname</th>\n",
       "      <th>purchases</th>\n",
       "      <th>datereg</th>\n",
       "      <th>filename</th>\n",
       "    </tr>\n",
       "  </thead>\n",
       "  <tbody>\n",
       "    <tr>\n",
       "      <th>0</th>\n",
       "      <td>bandit22812</td>\n",
       "      <td>7</td>\n",
       "      <td>29.09.2017</td>\n",
       "      <td>buyer10000</td>\n",
       "    </tr>\n",
       "    <tr>\n",
       "      <th>1</th>\n",
       "      <td>Танда</td>\n",
       "      <td>3</td>\n",
       "      <td>28.07.2017</td>\n",
       "      <td>buyer100001</td>\n",
       "    </tr>\n",
       "    <tr>\n",
       "      <th>2</th>\n",
       "      <td>ТвояБабушка</td>\n",
       "      <td>7</td>\n",
       "      <td>08.03.2017</td>\n",
       "      <td>buyer100020</td>\n",
       "    </tr>\n",
       "    <tr>\n",
       "      <th>3</th>\n",
       "      <td>Техноснаб</td>\n",
       "      <td>2</td>\n",
       "      <td>09.09.2017</td>\n",
       "      <td>buyer100031</td>\n",
       "    </tr>\n",
       "    <tr>\n",
       "      <th>4</th>\n",
       "      <td>Тирион Ланнистер</td>\n",
       "      <td>2</td>\n",
       "      <td>19.05.2017</td>\n",
       "      <td>buyer100051</td>\n",
       "    </tr>\n",
       "  </tbody>\n",
       "</table>\n",
       "</div>"
      ],
      "text/plain": [
       "           nickname purchases     datereg     filename\n",
       "0       bandit22812         7  29.09.2017   buyer10000\n",
       "1             Танда         3  28.07.2017  buyer100001\n",
       "2       ТвояБабушка         7  08.03.2017  buyer100020\n",
       "3         Техноснаб         2  09.09.2017  buyer100031\n",
       "4  Тирион Ланнистер         2  19.05.2017  buyer100051"
      ]
     },
     "execution_count": 878,
     "metadata": {},
     "output_type": "execute_result"
    }
   ],
   "source": [
    "data_buyers.head()"
   ]
  },
  {
   "cell_type": "code",
   "execution_count": 879,
   "metadata": {},
   "outputs": [],
   "source": [
    "## Keep relevant cols\n",
    "data_buyers = data_buyers[[\"nickname\", \"purchases\", \"datereg\"]]"
   ]
  },
  {
   "cell_type": "code",
   "execution_count": 880,
   "metadata": {},
   "outputs": [],
   "source": [
    "## Transliterate nicknames\n",
    "data_buyers[\"nickname\"] = data_buyers[\"nickname\"].apply(lambda x: translit(x, \"ru\", reversed=True))"
   ]
  },
  {
   "cell_type": "code",
   "execution_count": 881,
   "metadata": {},
   "outputs": [],
   "source": [
    "## Parse dates (this time not in Cyrillic)\n",
    "data_buyers.datereg = data_buyers[\"datereg\"].apply(lambda x: datetime.strptime(x, \"%d.%m.%Y\").date())"
   ]
  },
  {
   "cell_type": "code",
   "execution_count": 882,
   "metadata": {},
   "outputs": [],
   "source": [
    "## Purchases column has some rounding in the data above 500 purchases\n",
    "strange_cases = data_buyers.loc[data_buyers[\"purchases\"].str.contains(\"\\+\"), \"purchases\"].str.replace(\"\\+\", \"\")\n",
    "data_buyers.loc[data_buyers[\"purchases\"].str.contains(\"\\+\"), \"purchases\"] = strange_cases"
   ]
  },
  {
   "cell_type": "code",
   "execution_count": 883,
   "metadata": {},
   "outputs": [
    {
     "data": {
      "text/html": [
       "<div>\n",
       "<style scoped>\n",
       "    .dataframe tbody tr th:only-of-type {\n",
       "        vertical-align: middle;\n",
       "    }\n",
       "\n",
       "    .dataframe tbody tr th {\n",
       "        vertical-align: top;\n",
       "    }\n",
       "\n",
       "    .dataframe thead th {\n",
       "        text-align: right;\n",
       "    }\n",
       "</style>\n",
       "<table border=\"1\" class=\"dataframe\">\n",
       "  <thead>\n",
       "    <tr style=\"text-align: right;\">\n",
       "      <th></th>\n",
       "      <th>nickname</th>\n",
       "      <th>purchases</th>\n",
       "      <th>datereg</th>\n",
       "    </tr>\n",
       "  </thead>\n",
       "  <tbody>\n",
       "    <tr>\n",
       "      <th>0</th>\n",
       "      <td>bandit22812</td>\n",
       "      <td>7</td>\n",
       "      <td>2017-09-29</td>\n",
       "    </tr>\n",
       "    <tr>\n",
       "      <th>1</th>\n",
       "      <td>Tanda</td>\n",
       "      <td>3</td>\n",
       "      <td>2017-07-28</td>\n",
       "    </tr>\n",
       "    <tr>\n",
       "      <th>2</th>\n",
       "      <td>TvojaBabushka</td>\n",
       "      <td>7</td>\n",
       "      <td>2017-03-08</td>\n",
       "    </tr>\n",
       "    <tr>\n",
       "      <th>3</th>\n",
       "      <td>Tehnosnab</td>\n",
       "      <td>2</td>\n",
       "      <td>2017-09-09</td>\n",
       "    </tr>\n",
       "    <tr>\n",
       "      <th>4</th>\n",
       "      <td>Tirion Lannister</td>\n",
       "      <td>2</td>\n",
       "      <td>2017-05-19</td>\n",
       "    </tr>\n",
       "  </tbody>\n",
       "</table>\n",
       "</div>"
      ],
      "text/plain": [
       "           nickname purchases     datereg\n",
       "0       bandit22812         7  2017-09-29\n",
       "1             Tanda         3  2017-07-28\n",
       "2     TvojaBabushka         7  2017-03-08\n",
       "3         Tehnosnab         2  2017-09-09\n",
       "4  Tirion Lannister         2  2017-05-19"
      ]
     },
     "execution_count": 883,
     "metadata": {},
     "output_type": "execute_result"
    }
   ],
   "source": [
    "data_buyers.head()"
   ]
  },
  {
   "cell_type": "markdown",
   "metadata": {},
   "source": [
    "# 2. Exploratory data analysis"
   ]
  },
  {
   "cell_type": "markdown",
   "metadata": {},
   "source": [
    "### Users over time\n",
    "\n",
    "Buyers' dataset contains the date of registration of the buyer accounts. For **sellers' date of registration** it is slightly more difficult, since there is **no data** on that. We roughly assume that seller's registration equals the date of first feedback message."
   ]
  },
  {
   "cell_type": "code",
   "execution_count": 884,
   "metadata": {},
   "outputs": [],
   "source": [
    "# Buyers' date of registration\n",
    "buyers_date_reg = data_buyers[[\"nickname\", \"datereg\"]]\n",
    "buyers_date_reg[\"user_class\"] = \"buyer\"\n",
    "\n",
    "# Sellers' date of registration = date of first feedback message\n",
    "sellers_date_reg = data_feedback.groupby(\"seller\").date.min().reset_index()\n",
    "sellers_date_reg[\"user_class\"] = \"seller\"\n",
    "sellers_date_reg.columns = [\"nickname\", \"datereg\", \"user_class\"]\n",
    "\n",
    "# Users dataset merge...\n",
    "users_date_reg = buyers_date_reg.append(sellers_date_reg)\n",
    "# ... and aggregation (count by date and class)\n",
    "users_date_reg_agg = users_date_reg.groupby([\"datereg\", \"user_class\"]).count().reset_index()\n",
    "users_date_reg_agg.columns = [\"datereg\", \"user_class\", \"total\"]"
   ]
  },
  {
   "cell_type": "code",
   "execution_count": 885,
   "metadata": {},
   "outputs": [
    {
     "data": {
      "image/png": "[encoded data removed]",
      "text/plain": [
       "<matplotlib.figure.Figure at 0x7fb9ca094128>"
      ]
     },
     "metadata": {
      "needs_background": "light"
     },
     "output_type": "display_data"
    },
    {
     "name": "stdout",
     "output_type": "stream",
     "text": [
      "Mean # new buyers/day: 145.6642857142857       \n",
      "Mean # new sellers/day: 4.063444108761329\n"
     ]
    }
   ],
   "source": [
    "## Plot\n",
    "# 1. Main plot\n",
    "plt.figure(figsize=(15,5))\n",
    "plt.style.use(\"seaborn-pastel\")\n",
    "plt.subplot(1, 2, 1)\n",
    "plot_users_date = sns.lineplot(x=\"datereg\", y=\"total\", hue=\"user_class\", data=users_date_reg_agg, legend=False)\n",
    "plt.xticks(rotation=30)\n",
    "plt.xlabel(\"Date of registration\")\n",
    "plt.ylabel(\"Number of users/day\")\n",
    "plt.legend(title=None, loc=\"upper left\", labels=[\"Buyers\", \"Sellers\"])\n",
    "plt.title(\"Daily buyer/seller registrations in Hydra\")\n",
    "square = plot_users_date.add_patch(patches.Rectangle((datetime(2017,6,1),-35),155,90,linewidth=1,edgecolor='r',facecolor='none'))\n",
    "plt.axvline(x=datetime(2017,7,4), color=\"black\", linestyle = \"--\")\n",
    "plt.text(datetime(2016,11,15), 1200, \"AlphaBay user migration\\nafter shutdown by FBI --->\", size=8)\n",
    "\n",
    "# 2. Sellers subplot\n",
    "plt.subplot(1, 2, 2)\n",
    "plt.style.use(\"seaborn-pastel\")\n",
    "plot_sellers_date = sns.lineplot(x=\"datereg\", y=\"total\", hue=\"user_class\", data=users_date_reg_agg, legend=False)\n",
    "plt.xticks(rotation=30)\n",
    "plt.xlabel(\"Date of registration\")\n",
    "plt.ylabel(\"Number of users/day\")\n",
    "plt.xlim(datetime(2017,6,1), datetime(2017,12,12))\n",
    "plt.ylim(0,50)\n",
    "plt.title(\"Seller registrations/day zoomed in\")\n",
    "plt.axvline(x=datetime(2017,7,4), color=\"black\", linestyle = \"--\")\n",
    "[plot_sellers_date.spines[x].set_color(\"red\") for x in [\"top\", \"bottom\", \"left\", \"right\"]]\n",
    "\n",
    "plt.show()\n",
    "print(f'Mean # new buyers/day: {users_date_reg_agg.loc[users_date_reg_agg[\"user_class\"] == \"buyer\",:].total.mean()} \\\n",
    "      \\nMean # new sellers/day: {users_date_reg_agg.loc[users_date_reg_agg[\"user_class\"] == \"seller\",:].total.mean()}')"
   ]
  },
  {
   "cell_type": "code",
   "execution_count": 886,
   "metadata": {},
   "outputs": [],
   "source": [
    "# Cumulative number of users using cumsum\n",
    "users_date_reg_total = users_date_reg_agg.groupby(\"datereg\").total.sum().reset_index()\n",
    "users_date_reg_total = pd.DataFrame({\"datereg\": users_date_reg_agg[\"datereg\"], \n",
    "                                     \"total\": users_date_reg_total.total.cumsum()})"
   ]
  },
  {
   "cell_type": "code",
   "execution_count": 887,
   "metadata": {
    "scrolled": true
   },
   "outputs": [
    {
     "data": {
      "image/png": "[encoded data removed]",
      "text/plain": [
       "<matplotlib.figure.Figure at 0x7fb9ca08eb00>"
      ]
     },
     "metadata": {
      "needs_background": "light"
     },
     "output_type": "display_data"
    }
   ],
   "source": [
    "## Plot \n",
    "plt.figure(figsize=(7.5,5))\n",
    "plt.style.use(\"seaborn-pastel\")\n",
    "plt.bar(x=\"datereg\", height=\"total\", width=1, data=users_date_reg_total)\n",
    "plt.xticks(rotation=30)\n",
    "plt.xlim(datetime(2015,11,1), datetime(2017,5,25))\n",
    "plt.xlabel(\"Date of registration\")\n",
    "plt.ylabel(\"Usercount\")\n",
    "plt.title(\"Cumulative number of users in Hydra\")\n",
    "\n",
    "plt.show()"
   ]
  },
  {
   "cell_type": "markdown",
   "metadata": {},
   "source": [
    "### Sales (sellers) and purchases (buyers) distributions\n",
    "\n",
    "Once again, buyers have data on total purchases, while sellers do not have any data on total sales. I assume that total sales = sum of feedback messages, even though in reality a large % of transactions do not receive a feedback message."
   ]
  },
  {
   "cell_type": "code",
   "execution_count": 888,
   "metadata": {},
   "outputs": [],
   "source": [
    "## Get buyers' purchases from buyer profile data\n",
    "buyers_purchases = pd.to_numeric(data_buyers[\"purchases\"])\n",
    "## Get sellers' sales by counting the number of feedback messages they receive\n",
    "sellers_sales = data_feedback.groupby(\"seller\").size().reset_index().iloc[:,1]\n",
    "\n",
    "## Make a TOP5 seller list\n",
    "top_5 = data_feedback.groupby(\"seller\").size().sort_values()"
   ]
  },
  {
   "cell_type": "code",
   "execution_count": 889,
   "metadata": {},
   "outputs": [
    {
     "data": {
      "image/png": "[encoded data removed]",
      "text/plain": [
       "<matplotlib.figure.Figure at 0x7fb9c86e0b00>"
      ]
     },
     "metadata": {
      "needs_background": "light"
     },
     "output_type": "display_data"
    },
    {
     "name": "stdout",
     "output_type": "stream",
     "text": [
      "Average purchases per buyer account: 24.46      \n",
      "Average sales per seller account: 426.97      \n",
      "\n",
      "Top sellers: \n",
      "seller\n",
      "Qwaysee              10456\n",
      "California-Dreams     7322\n",
      "NARODNYJ              5794\n",
      "Manarat               5014\n",
      "★LUXURY★SHOP★         5002\n",
      "dtype: int64\n"
     ]
    }
   ],
   "source": [
    "## Plot\n",
    "# 1. CDFs\n",
    "plt.figure(figsize=(15,5))\n",
    "plt.style.use(\"seaborn-pastel\")\n",
    "plt.subplot(1,2,1)\n",
    "plt.hist(buyers_purchases[buyers_purchases<1700], bins=100, cumulative=True, normed=True, label='CDF',\n",
    "         histtype='step')\n",
    "plt.hist(sellers_sales[sellers_sales<1500], bins=100, cumulative=True, normed=True, label='CDF',\n",
    "         histtype='step')\n",
    "plt.xlim(-20,1400)\n",
    "plt.xlabel(\"Number of purchases/sales per account\")\n",
    "plt.ylabel(\"Proportion of account with X \\npurchases/sales\")\n",
    "plt.legend([\"Buyer purchase CDF\", \"Seller sales CDF\"], loc=\"lower right\")\n",
    "plt.title(\"CDF plot of total purchases/sales per account\")\n",
    "\n",
    "# 2. Boxplots\n",
    "plt.subplot(1,2,2)\n",
    "plt.boxplot([buyers_purchases[buyers_purchases<1500], sellers_sales[sellers_sales<1500]])\n",
    "plt.xticks([1,2], [f\"Buyer purchases\\nN={len(buyers_purchases)}\", f\"Seller sales\\n,N={len(sellers_sales)}\"])\n",
    "plt.title(\"Boxplot distribution of sales/purchases\")\n",
    "\n",
    "plt.show()\n",
    "print(f\"Average purchases per buyer account: {np.round(buyers_purchases.mean(),2)}\\\n",
    "      \\nAverage sales per seller account: {np.round(sellers_sales.mean(),2)}\\\n",
    "      \\n\\nTop sellers: \\n{top_5[::-1].head()}\")"
   ]
  },
  {
   "cell_type": "markdown",
   "metadata": {},
   "source": [
    "### Users' market activity over time"
   ]
  },
  {
   "cell_type": "markdown",
   "metadata": {},
   "source": [
    "So far the purchases have only been covered aggregated for each account. We can also look for variation of purchases at each week since buyer's market entry. Since buyer's total # of purchases is aggregated in user profile data, we will use the feedback messages they leave as a proxy of their purchase activity."
   ]
  },
  {
   "cell_type": "code",
   "execution_count": 890,
   "metadata": {},
   "outputs": [],
   "source": [
    "# Get buyers' feedback messages as the proxy of purchases, convert dates\n",
    "buyers_purchases_time = data_feedback[[\"buyer\", \"date\"]]\n",
    "buyers_purchases_time.loc[:,'date'] = pd.to_datetime(buyers_purchases_time['date'])\n",
    "\n",
    "# Aggregate feedbacks to weekly windows for each buyer\n",
    "buyers_purchases_time = buyers_purchases_time.groupby(['buyer', pd.Grouper(key='date', freq='W')])\\\n",
    "                                                .size().reset_index()\n",
    "# Merge with buyer accounts to get date of registration\n",
    "buyers_purchases_time = buyers_purchases_time.merge(data_buyers, left_on=\"buyer\", right_on=\"nickname\")\n",
    "buyers_purchases_time = buyers_purchases_time[[\"buyer\", \"date\", \"datereg\", 0]]\n",
    "buyers_purchases_time.columns = [\"buyer\", \"date\", \"datereg\", \"sales_per_week\"]\n",
    "buyers_purchases_time[\"datereg\"] = pd.to_datetime(buyers_purchases_time[\"datereg\"])\n",
    "buyers_purchases_time[\"date\"] = pd.to_datetime(buyers_purchases_time[\"date\"])\n",
    "\n",
    "\n",
    "# Get total purchases for each buyer\n",
    "total_purchases = buyers_purchases_time.groupby(\"buyer\").sales_per_week.sum().reset_index()\n",
    "total_purchases.columns = [\"buyer\", \"total_purchases\"]\n",
    "buyers_purchases_time = buyers_purchases_time.merge(total_purchases, on = \"buyer\")\n",
    "\n",
    "# Count the difference between Nth week and date of registration (weeks since market entry)\n",
    "buyers_purchases_time[\"weekno\"] = (buyers_purchases_time[\"date\"] - buyers_purchases_time[\"datereg\"])\n",
    "buyers_purchases_time[\"weekno\"] = buyers_purchases_time.weekno.apply(lambda x: (x.days//7)+1)\n",
    "\n",
    "# Some buyers have date of registration later than first feedback (faulty scrapes?).\n",
    "# Drop these cases.\n",
    "buyers_purchases_time = buyers_purchases_time.drop(\n",
    "    buyers_purchases_time.loc[buyers_purchases_time[\"date\"] < buyers_purchases_time[\"datereg\"],:].index)\n",
    "\n",
    "# Count proportion of purchases for each buyer made in week N\n",
    "buyers_purchases_time[\"prc_total\"] = buyers_purchases_time[\"sales_per_week\"]/buyers_purchases_time[\"total_purchases\"]\n",
    "\n",
    "# For each week, count the average prc of purchases\n",
    "purchases_by_week = buyers_purchases_time.groupby(\"weekno\").prc_total.mean()\n",
    "\n",
    "# Number of weeks each user was active for\n",
    "buyers_week_active = buyers_purchases_time.groupby(\"buyer\").weekno.max()"
   ]
  },
  {
   "cell_type": "code",
   "execution_count": 891,
   "metadata": {},
   "outputs": [
    {
     "data": {
      "image/png": "[encoded data removed]",
      "text/plain": [
       "<matplotlib.figure.Figure at 0x7fb9c8718940>"
      ]
     },
     "metadata": {
      "needs_background": "light"
     },
     "output_type": "display_data"
    }
   ],
   "source": [
    "## Plot\n",
    "# 1. Buyers activity @ week X\n",
    "plt.figure(figsize=(15,5))\n",
    "plt.style.use(\"seaborn-pastel\")\n",
    "plt.subplot(1,2,1)\n",
    "plt.bar(x=purchases_by_week.index, height=purchases_by_week, width=1)\n",
    "plt.xlabel(\"# weeks since buyer's market entry\")\n",
    "plt.ylabel(\"% of user's purchases in week X\")\n",
    "plt.title(\"% of buyers' purchases by week\")\n",
    "\n",
    "# 2. # weeks buyers have been active for\n",
    "plt.subplot(1,2,2)\n",
    "plt.hist(buyers_week_active, bins=100, color=\"lightsalmon\")\n",
    "plt.xlabel(\"# weeks of activity\")\n",
    "plt.ylabel(\"Number of buyers\")\n",
    "plt.title(\"Total users by time since registration\")\n",
    "\n",
    "plt.show()"
   ]
  },
  {
   "cell_type": "markdown",
   "metadata": {},
   "source": [
    "### Sellers' reputation \n",
    "\n",
    "Sellers reputation can be calculated by averaging their ratings over all feedback messages. Most sellers have near-perfect reputation, as in most online markets. "
   ]
  },
  {
   "cell_type": "code",
   "execution_count": 892,
   "metadata": {},
   "outputs": [
    {
     "data": {
      "text/plain": [
       "10    0.917073\n",
       "9     0.022693\n",
       "8     0.020102\n",
       "7     0.012306\n",
       "0     0.006859\n",
       "5     0.006540\n",
       "6     0.005114\n",
       "1     0.003470\n",
       "3     0.002527\n",
       "2     0.001710\n",
       "4     0.001606\n",
       "Name: rating, dtype: float64"
      ]
     },
     "execution_count": 892,
     "metadata": {},
     "output_type": "execute_result"
    }
   ],
   "source": [
    "## Tab feedback rating values - 91% of ratings are 10/10\n",
    "data_feedback.rating.value_counts(normalize=True, sort=True)"
   ]
  },
  {
   "cell_type": "code",
   "execution_count": 893,
   "metadata": {},
   "outputs": [],
   "source": [
    "## Get sales and reputation data\n",
    "# Sellers aggregated number of feedback messages = proxy for sales\n",
    "# Usese top_5 series that were used for finding top sellers (contains all sellers) \n",
    "sellers_sales = top_5.reset_index()\n",
    "sellers_sales.columns = [\"seller\", \"sales\"]\n",
    "\n",
    "# Get feedback ratings from feedback data and calculate reputation\n",
    "data_feedback[\"rating\"] = pd.to_numeric(data_feedback[\"rating\"])\n",
    "sellers_rep = data_feedback.groupby(\"seller\").rating.mean().reset_index()\n",
    "\n",
    "# Merge sales and reputation\n",
    "reputation_sales = sellers_rep.merge(sellers_sales, on=\"seller\")"
   ]
  },
  {
   "cell_type": "code",
   "execution_count": 894,
   "metadata": {},
   "outputs": [
    {
     "data": {
      "text/plain": [
       "<matplotlib.figure.Figure at 0x7fb9c8748cc0>"
      ]
     },
     "metadata": {},
     "output_type": "display_data"
    },
    {
     "data": {
      "image/png": "[encoded data removed]",
      "text/plain": [
       "<matplotlib.figure.Figure at 0x7fb9cad0d278>"
      ]
     },
     "metadata": {
      "needs_background": "light"
     },
     "output_type": "display_data"
    }
   ],
   "source": [
    "## Plot\n",
    "plt.figure(figsize=(7.5,5))\n",
    "h = sns.jointplot(x=\"rating\", y=\"sales\", data=reputation_sales)\n",
    "h.ax_joint.set_xlabel(\"Seller average rating\")\n",
    "h.ax_joint.set_ylabel(\"Seller total # sales\")\n",
    "\n",
    "\n",
    "plt.show(plot_reputation_sales)"
   ]
  },
  {
   "cell_type": "markdown",
   "metadata": {},
   "source": [
    "### Item categories\n",
    "\n",
    "Sadly, items were not categorized in a structured way in the website at the time of data collection. I will use item names and most popular words used in them to come up with a proxy categorization for some of the items."
   ]
  },
  {
   "cell_type": "markdown",
   "metadata": {},
   "source": [
    "#### Category encoding"
   ]
  },
  {
   "cell_type": "code",
   "execution_count": 895,
   "metadata": {},
   "outputs": [],
   "source": [
    "## Get item names, remove marketplace added text\n",
    "item_names = data_items[\"name\"]\n",
    "item_names = item_names.str.replace(\" \\| HYDRA\", \"\")"
   ]
  },
  {
   "cell_type": "code",
   "execution_count": 896,
   "metadata": {},
   "outputs": [],
   "source": [
    "## Make a bag of words:\n",
    "# Get every item's name, split it into words, lowercase them and store in a Series\n",
    "bag_of_words = []\n",
    "for x in item_names:\n",
    "    words = x.split()\n",
    "    for i in words:\n",
    "        bag_of_words.append(i.lower())\n",
    "        \n",
    "bag_of_words = pd.Series(bag_of_words)"
   ]
  },
  {
   "cell_type": "code",
   "execution_count": 897,
   "metadata": {},
   "outputs": [],
   "source": [
    "# Categories are selected manually - words that at least resemble drugs \n",
    "# among the most popular words\n",
    "selected_categories = pd.Series(range(15), index=bag_of_words.value_counts()[[1,2,3,4,5,6,10,11,13,18,20,21,24,26,28]].index.values)\n",
    "\n",
    "# Remapping - categories scheme for mapping categories to item names\n",
    "remapping = dict(selected_categories)\n",
    "\n",
    "# Some words refer to the same drug (e.g. cocaine and white) - recode\n",
    "remapping[\"hash\"] = 0; remapping[\"white\"] = 5; remapping[\"pills\"] = 6\n",
    "remapping[\"marki\"] = 12; remapping[\"tabletki\"] = 6; remapping[\"cocaine\"] = 5\n",
    "\n",
    "# Reversed remapping dictionary for recoding\n",
    "remapping_reversed = {v:k for k,v in remapping.items()}"
   ]
  },
  {
   "cell_type": "code",
   "execution_count": 1027,
   "metadata": {},
   "outputs": [
    {
     "name": "stdout",
     "output_type": "stream",
     "text": [
      "\n",
      "\n",
      "Encoded a total of 6028 items, which is 48.699% of all scraped items\n"
     ]
    }
   ],
   "source": [
    "## Get items data and add our new categories\n",
    "items = data_items.copy()\n",
    "items[\"name_lower\"] = items[\"name\"].str.lower()\n",
    "items[\"item_cat\"] = \"\"\n",
    "\n",
    "# If item name contains word in remapping scheme, store category\n",
    "for k,v in remapping.items():\n",
    "    items.loc[items[\"name_lower\"].str.contains(k), \"item_cat\"] = v\n",
    "\n",
    "# Make object with only those items that have a new category\n",
    "data_items_cats = items.loc[items[\"item_cat\"] != \"\", :]\n",
    "\n",
    "print(f\"\\n\\nEncoded a total of {len(data_items_cats)} items, which is \\\n",
    "{round(len(data_items_cats)/len(data_items),5)*100}% of all scraped items\")"
   ]
  },
  {
   "cell_type": "markdown",
   "metadata": {},
   "source": [
    "#### Items by category and seller_diversity\n",
    "\n",
    "Let's plot popularity of our newly coded drug categories (in terms of # items) and sellers' diversity - how many different categories of drugs each seller usually sells "
   ]
  },
  {
   "cell_type": "code",
   "execution_count": 1028,
   "metadata": {},
   "outputs": [],
   "source": [
    "## Number of items per category\n",
    "# Group items by category, add counts\n",
    "item_cat_counts = data_items_cats.groupby(\"item_cat\").size().reset_index()\n",
    "# Remap item category values to labels\n",
    "item_cat_counts[\"item_cat\"].replace(remapping_reversed, inplace=True)\n",
    "item_cat_counts.columns = [\"item_cat\", \"n_items\"]\n",
    "\n",
    "# Seller diversity - how many unique categories each seller sells their items in\n",
    "seller_diversity = data_items_cats.groupby(\"seller\").item_cat.nunique().reset_index()\n",
    "seller_diversity.columns = [\"seller\", \"n_categories\"]"
   ]
  },
  {
   "cell_type": "code",
   "execution_count": 1029,
   "metadata": {},
   "outputs": [
    {
     "data": {
      "image/png": "[encoded data removed]",
      "text/plain": [
       "<matplotlib.figure.Figure at 0x7fb9bf905ba8>"
      ]
     },
     "metadata": {
      "needs_background": "light"
     },
     "output_type": "display_data"
    }
   ],
   "source": [
    "## Plots\n",
    "# 1. Number of items per category\n",
    "plt.figure(figsize=(15,5))\n",
    "plt.subplot(1,2,1)\n",
    "plt.bar(x=\"item_cat\", height=\"n_items\", data=item_cat_counts)\n",
    "plt.xticks(rotation=30)\n",
    "plt.xlabel(\"Category of drugs\")\n",
    "plt.ylabel(\"Total number of items in category\")\n",
    "plt.title(\"Number of items per category\")\n",
    "\n",
    "# 2. Sellers' item diversity\n",
    "plt.subplot(1,2,2)\n",
    "plt.hist(seller_diversity[\"n_categories\"], bins=len(seller_diversity[\"n_categories\"].unique())-1, align=\"left\",\n",
    "        rwidth=0.8, color=\"darksalmon\")\n",
    "plt.xlabel(\"Number of categories of sellers items\")\n",
    "plt.ylabel(\"Number of sellers\")\n",
    "plt.title(\"Sellers' item diversity (# categories by seller)\")\n",
    "\n",
    "plt.show()"
   ]
  },
  {
   "cell_type": "markdown",
   "metadata": {},
   "source": [
    "### Geographic distribution\n",
    "\n",
    "Let's check the most active locations - we can use feedback messages to get data where the buyer was located at, geocode the city names to get coordinates and plot that on a map."
   ]
  },
  {
   "cell_type": "code",
   "execution_count": 988,
   "metadata": {},
   "outputs": [],
   "source": [
    "# Get unique buyer locations from feedback data\n",
    "locations_b = data_feedback[\"buyer_location\"]\n",
    "locations_b_unique = pd.DataFrame({\"loc\": locations_b.unique()}) # 317 locations\n",
    "locations_b_unique[\"geocoded\"] = \"\""
   ]
  },
  {
   "cell_type": "code",
   "execution_count": 990,
   "metadata": {
    "scrolled": true
   },
   "outputs": [],
   "source": [
    "## I use geopy's geocoder - although there are alternatives with higher quality (e.g. Google's),\n",
    "# this one is really easy to use and does not require any registration\n",
    "\n",
    "# For each unique location, send geocode request and store coordinates. If it fails - wait and try again.\n",
    "\n",
    "#geolocator = Nominatim(user_agent=\"test4\")\n",
    "#for x in locations_b_unique.index:\n",
    "#    try:\n",
    "#        locations_b_unique.loc[x,\"geocoded\"] = (geolocator.geocode(locations_b_unique.loc[x,\"loc\"])[1])\n",
    "#    except:\n",
    "#        time.sleep(5)\n",
    "#        locations_b_unique.loc[x,\"geocoded\"] = (geolocator.geocode(locations_b_unique.loc[x,\"loc\"]))\n",
    "    \n",
    "#locations_b_unique.to_csv(\"geocoded_locations.csv\")\n",
    "\n",
    "# Store locations to csv\n",
    "locations_b_unique = pd.read_csv(\"geocoded_locations.csv\")\n",
    "locations_b_unique = locations_b_unique[[\"loc\", \"geocoded\"]]"
   ]
  },
  {
   "cell_type": "code",
   "execution_count": 991,
   "metadata": {},
   "outputs": [
    {
     "data": {
      "text/plain": [
       "loc         1\n",
       "geocoded    5\n",
       "dtype: int64"
      ]
     },
     "execution_count": 991,
     "metadata": {},
     "output_type": "execute_result"
    }
   ],
   "source": [
    "## Check missings\n",
    "locations_b_unique.isna().sum() # 1 empty locations and 5 missing geocodes out of 317 - close enough"
   ]
  },
  {
   "cell_type": "code",
   "execution_count": 992,
   "metadata": {},
   "outputs": [],
   "source": [
    "# Merge feedback data with geocoded location data\n",
    "locations_full = data_feedback.merge(locations_b_unique, left_on=\"buyer_location\", right_on=\"loc\")[[\"loc\", \"geocoded\"]]\n",
    "locations_full.drop(locations_full.loc[locations_full[\"geocoded\"].isna(),:].index, inplace=True)\n",
    "locations_full.drop(locations_full.loc[locations_full[\"loc\"]==\"Phuket (Tailand)\t\",:].index, inplace=True)\n",
    "\n",
    "# Get total number of purchases in location\n",
    "total_purchases = locations_full.groupby(\"loc\").size().reset_index()\n",
    "locations_full = locations_full.merge(total_purchases, on=\"loc\")"
   ]
  },
  {
   "cell_type": "code",
   "execution_count": 993,
   "metadata": {},
   "outputs": [],
   "source": [
    "# After importing data from csv, tuples are in strings, use literal_eval to \n",
    "# retype back to tuples\n",
    "locations_full[\"lat\"] = [literal_eval(x)[0] for x in locations_full[\"geocoded\"]]\n",
    "locations_full[\"lon\"] = [literal_eval(x)[1] for x in locations_full[\"geocoded\"]]"
   ]
  },
  {
   "cell_type": "code",
   "execution_count": 994,
   "metadata": {},
   "outputs": [],
   "source": [
    "# Keep only unique values\n",
    "locations_full.columns = [\"loc\", \"coords\", \"purchases\", \"lat\", \"lon\"]\n",
    "locations_full = locations_full.drop_duplicates()"
   ]
  },
  {
   "cell_type": "code",
   "execution_count": 1014,
   "metadata": {},
   "outputs": [
    {
     "data": {
      "image/png": "[encoded data removed]",
      "text/plain": [
       "<matplotlib.figure.Figure at 0x7fb9f170d898>"
      ]
     },
     "metadata": {
      "needs_background": "light"
     },
     "output_type": "display_data"
    }
   ],
   "source": [
    "## Plot \n",
    "# Top 15 cities by purchases\n",
    "\n",
    "# Using pandas plotting (matplotlib sorts alphabetically and there's no quick flag to avoid that - annoying!)\n",
    "locations_full.sort_values(\"purchases\", ascending=False)[:15].plot(x=\"loc\", y=\"purchases\", \n",
    "                                                                   kind=\"bar\", figsize=(10,5))\n",
    "plt.xticks(rotation=70)\n",
    "plt.ylabel(\"Number of purchases in X city\")\n",
    "plt.xlabel(\"\")\n",
    "plt.title(\"Top 15 cities by drug purchases\")\n",
    "plt.legend().remove()\n",
    "\n",
    "plt.show()"
   ]
  },
  {
   "cell_type": "code",
   "execution_count": 1035,
   "metadata": {},
   "outputs": [
    {
     "name": "stdout",
     "output_type": "stream",
     "text": [
      "Notice that some points are in Czech Republic/France. These are likely cityname twins - geocoding errors\n"
     ]
    },
    {
     "data": {
      "text/html": [
       "<iframe id=\"igraph\" scrolling=\"no\" style=\"border:none;\" seamless=\"seamless\" src=\"https://plot.ly/~LNorbutas/2.embed\" height=\"525px\" width=\"100%\"></iframe>"
      ],
      "text/plain": [
       "<chart_studio.tools.PlotlyDisplay object>"
      ]
     },
     "execution_count": 1035,
     "metadata": {},
     "output_type": "execute_result"
    }
   ],
   "source": [
    "## Plot\n",
    "# Plot geocoded points on map and size/color by purchase size\n",
    "\n",
    "# Color scale\n",
    "colscale = [[0,\"rgb(5, 10, 172)\"],[0.35,\"rgb(40, 60, 190)\"],[0.5,\"rgb(70, 100, 245)\"],\\\n",
    "    [0.6,\"rgb(90, 120, 245)\"],[0.7,\"rgb(106, 137, 247)\"],[1,\"rgb(168, 168, 100)\"]]\n",
    "\n",
    "data = [go.Scattergeo(\n",
    "        # Longitudes + latitudes of points\n",
    "        lon = locations_full['lon'],\n",
    "        lat = locations_full['lat'],\n",
    "        # Text to display on hover\n",
    "        text = locations_full['loc'] + \" \\nPurchases:\" + locations_full['purchases'].astype(str),\n",
    "        # Add markers\n",
    "        mode = 'markers',\n",
    "        marker = dict(\n",
    "            # Marker size (log-transform purchases to avoid extreme sizes due to outliers)\n",
    "            size = np.log(locations_full['purchases'])+2, reversescale = True,\n",
    "            autocolorscale = False, \n",
    "            # Marker form\n",
    "            symbol = 'circle', line = dict(width=1, color='rgba(102, 102, 102)'),\n",
    "            # Color scale (based on purchases)\n",
    "            colorscale = colscale,\n",
    "            cmin = 0,\n",
    "            color = locations_full['purchases'],\n",
    "            cmax = locations_full['purchases'].max(),\n",
    "            colorbar=dict(\n",
    "                title=\"# Purchases in the city\"\n",
    "            )\n",
    "        ))]\n",
    "\n",
    "layout = dict(title = 'Drug purchase geography', \n",
    "        geo = dict(\n",
    "            # Only available - asia/europe/usa/world/africa\n",
    "            scope='europe',\n",
    "            # Change projection\n",
    "            projection=dict(type = \"natural earth\"),\n",
    "            showland = True,\n",
    "            # Land color\n",
    "            landcolor = \"rgb(250, 250, 250)\",\n",
    "            # Borders\n",
    "            countrycolor = \"rgb(0, 0, 0)\",\n",
    "            countrywidth = 0.5),\n",
    "    )\n",
    "\n",
    "# Plot\n",
    "print(\"Notice that some points are in Czech Republic/France. These are likely cityname twins - geocoding errors\")\n",
    "fig = go.Figure(data=data, layout=layout )\n",
    "py.iplot(fig, filename='d3-drugs')"
   ]
  }
 ],
 "metadata": {
  "kernelspec": {
   "display_name": "Python 3",
   "language": "python",
   "name": "python3"
  },
  "language_info": {
   "codemirror_mode": {
    "name": "ipython",
    "version": 3
   },
   "file_extension": ".py",
   "mimetype": "text/x-python",
   "name": "python",
   "nbconvert_exporter": "python",
   "pygments_lexer": "ipython3",
   "version": "3.6.7"
  }
 },
 "nbformat": 4,
 "nbformat_minor": 2
}
